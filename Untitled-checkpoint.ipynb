{
 "cells": [
  {
   "cell_type": "code",
   "execution_count": 1,
   "metadata": {},
   "outputs": [
    {
     "name": "stderr",
     "output_type": "stream",
     "text": [
      "Registered S3 methods overwritten by 'ggplot2':\n",
      "  method         from \n",
      "  [.quosures     rlang\n",
      "  c.quosures     rlang\n",
      "  print.quosures rlang\n",
      "Registered S3 method overwritten by 'rvest':\n",
      "  method            from\n",
      "  read_xml.response xml2\n",
      "-- Attaching packages --------------------------------------- tidyverse 1.2.1 --\n",
      "v ggplot2 3.1.1       v purrr   0.3.2  \n",
      "v tibble  2.1.1       v dplyr   0.8.0.1\n",
      "v tidyr   0.8.3       v stringr 1.4.0  \n",
      "v readr   1.3.1       v forcats 0.4.0  \n",
      "-- Conflicts ------------------------------------------ tidyverse_conflicts() --\n",
      "x dplyr::filter() masks stats::filter()\n",
      "x dplyr::lag()    masks stats::lag()\n",
      "\n",
      "Attaching package: 'broom'\n",
      "\n",
      "The following object is masked from 'package:modelr':\n",
      "\n",
      "    bootstrap\n",
      "\n"
     ]
    }
   ],
   "source": [
    "#packages\n",
    "library(tidyverse)\n",
    "library(modelr)\n",
    "library(broom)"
   ]
  },
  {
   "cell_type": "code",
   "execution_count": 4,
   "metadata": {},
   "outputs": [
    {
     "name": "stderr",
     "output_type": "stream",
     "text": [
      "Parsed with column specification:\n",
      "cols(\n",
      "  `Daily Time Spent on Site` = col_double(),\n",
      "  Age = col_double(),\n",
      "  `Area Income` = col_double(),\n",
      "  `Daily Internet Usage` = col_double(),\n",
      "  `Ad Topic Line` = col_character(),\n",
      "  City = col_character(),\n",
      "  Male = col_double(),\n",
      "  Country = col_character(),\n",
      "  Timestamp = col_character(),\n",
      "  `Clicked on Ad` = col_double()\n",
      ")\n"
     ]
    }
   ],
   "source": [
    "#loading the data\n",
    "advertising <- read_csv('F:/advertising.csv')"
   ]
  },
  {
   "cell_type": "code",
   "execution_count": 5,
   "metadata": {},
   "outputs": [
    {
     "data": {
      "text/html": [
       "<table>\n",
       "<thead><tr><th scope=col>Daily Time Spent on Site</th><th scope=col>Age</th><th scope=col>Area Income</th><th scope=col>Daily Internet Usage</th><th scope=col>Ad Topic Line</th><th scope=col>City</th><th scope=col>Male</th><th scope=col>Country</th><th scope=col>Timestamp</th><th scope=col>Clicked on Ad</th></tr></thead>\n",
       "<tbody>\n",
       "\t<tr><td>68.95                                </td><td>35                                   </td><td>61833.90                             </td><td>256.09                               </td><td>Cloned 5thgeneration orchestration   </td><td>Wrightburgh                          </td><td>0                                    </td><td>Tunisia                              </td><td>27/03/2016 00:53                     </td><td>0                                    </td></tr>\n",
       "\t<tr><td>80.23                                </td><td>31                                   </td><td>68441.85                             </td><td>193.77                               </td><td>Monitored national standardization   </td><td>West Jodi                            </td><td>1                                    </td><td>Nauru                                </td><td>04/04/2016 01:39                     </td><td>0                                    </td></tr>\n",
       "\t<tr><td>69.47                                </td><td>26                                   </td><td>59785.94                             </td><td>236.50                               </td><td>Organic bottom-line service-desk     </td><td>Davidton                             </td><td>0                                    </td><td>San Marino                           </td><td>13/03/2016 20:35                     </td><td>0                                    </td></tr>\n",
       "\t<tr><td>74.15                                </td><td>29                                   </td><td>54806.18                             </td><td>245.89                               </td><td>Triple-buffered reciprocal time-frame</td><td>West Terrifurt                       </td><td>1                                    </td><td>Italy                                </td><td>10/01/2016 02:31                     </td><td>0                                    </td></tr>\n",
       "\t<tr><td>68.37                                </td><td>35                                   </td><td>73889.99                             </td><td>225.58                               </td><td>Robust logistical utilization        </td><td>South Manuel                         </td><td>0                                    </td><td>Iceland                              </td><td>03/06/2016 03:36                     </td><td>0                                    </td></tr>\n",
       "\t<tr><td>59.99                                </td><td>23                                   </td><td>59761.56                             </td><td>226.74                               </td><td>Sharable client-driven software      </td><td>Jamieberg                            </td><td>1                                    </td><td>Norway                               </td><td>19/05/2016 14:30                     </td><td>0                                    </td></tr>\n",
       "</tbody>\n",
       "</table>\n"
      ],
      "text/latex": [
       "\\begin{tabular}{r|llllllllll}\n",
       " Daily Time Spent on Site & Age & Area Income & Daily Internet Usage & Ad Topic Line & City & Male & Country & Timestamp & Clicked on Ad\\\\\n",
       "\\hline\n",
       "\t 68.95                                 & 35                                    & 61833.90                              & 256.09                                & Cloned 5thgeneration orchestration    & Wrightburgh                           & 0                                     & Tunisia                               & 27/03/2016 00:53                      & 0                                    \\\\\n",
       "\t 80.23                                 & 31                                    & 68441.85                              & 193.77                                & Monitored national standardization    & West Jodi                             & 1                                     & Nauru                                 & 04/04/2016 01:39                      & 0                                    \\\\\n",
       "\t 69.47                                 & 26                                    & 59785.94                              & 236.50                                & Organic bottom-line service-desk      & Davidton                              & 0                                     & San Marino                            & 13/03/2016 20:35                      & 0                                    \\\\\n",
       "\t 74.15                                 & 29                                    & 54806.18                              & 245.89                                & Triple-buffered reciprocal time-frame & West Terrifurt                        & 1                                     & Italy                                 & 10/01/2016 02:31                      & 0                                    \\\\\n",
       "\t 68.37                                 & 35                                    & 73889.99                              & 225.58                                & Robust logistical utilization         & South Manuel                          & 0                                     & Iceland                               & 03/06/2016 03:36                      & 0                                    \\\\\n",
       "\t 59.99                                 & 23                                    & 59761.56                              & 226.74                                & Sharable client-driven software       & Jamieberg                             & 1                                     & Norway                                & 19/05/2016 14:30                      & 0                                    \\\\\n",
       "\\end{tabular}\n"
      ],
      "text/markdown": [
       "\n",
       "| Daily Time Spent on Site | Age | Area Income | Daily Internet Usage | Ad Topic Line | City | Male | Country | Timestamp | Clicked on Ad |\n",
       "|---|---|---|---|---|---|---|---|---|---|\n",
       "| 68.95                                 | 35                                    | 61833.90                              | 256.09                                | Cloned 5thgeneration orchestration    | Wrightburgh                           | 0                                     | Tunisia                               | 27/03/2016 00:53                      | 0                                     |\n",
       "| 80.23                                 | 31                                    | 68441.85                              | 193.77                                | Monitored national standardization    | West Jodi                             | 1                                     | Nauru                                 | 04/04/2016 01:39                      | 0                                     |\n",
       "| 69.47                                 | 26                                    | 59785.94                              | 236.50                                | Organic bottom-line service-desk      | Davidton                              | 0                                     | San Marino                            | 13/03/2016 20:35                      | 0                                     |\n",
       "| 74.15                                 | 29                                    | 54806.18                              | 245.89                                | Triple-buffered reciprocal time-frame | West Terrifurt                        | 1                                     | Italy                                 | 10/01/2016 02:31                      | 0                                     |\n",
       "| 68.37                                 | 35                                    | 73889.99                              | 225.58                                | Robust logistical utilization         | South Manuel                          | 0                                     | Iceland                               | 03/06/2016 03:36                      | 0                                     |\n",
       "| 59.99                                 | 23                                    | 59761.56                              | 226.74                                | Sharable client-driven software       | Jamieberg                             | 1                                     | Norway                                | 19/05/2016 14:30                      | 0                                     |\n",
       "\n"
      ],
      "text/plain": [
       "  Daily Time Spent on Site Age Area Income Daily Internet Usage\n",
       "1 68.95                    35  61833.90    256.09              \n",
       "2 80.23                    31  68441.85    193.77              \n",
       "3 69.47                    26  59785.94    236.50              \n",
       "4 74.15                    29  54806.18    245.89              \n",
       "5 68.37                    35  73889.99    225.58              \n",
       "6 59.99                    23  59761.56    226.74              \n",
       "  Ad Topic Line                         City           Male Country   \n",
       "1 Cloned 5thgeneration orchestration    Wrightburgh    0    Tunisia   \n",
       "2 Monitored national standardization    West Jodi      1    Nauru     \n",
       "3 Organic bottom-line service-desk      Davidton       0    San Marino\n",
       "4 Triple-buffered reciprocal time-frame West Terrifurt 1    Italy     \n",
       "5 Robust logistical utilization         South Manuel   0    Iceland   \n",
       "6 Sharable client-driven software       Jamieberg      1    Norway    \n",
       "  Timestamp        Clicked on Ad\n",
       "1 27/03/2016 00:53 0            \n",
       "2 04/04/2016 01:39 0            \n",
       "3 13/03/2016 20:35 0            \n",
       "4 10/01/2016 02:31 0            \n",
       "5 03/06/2016 03:36 0            \n",
       "6 19/05/2016 14:30 0            "
      ]
     },
     "metadata": {},
     "output_type": "display_data"
    }
   ],
   "source": [
    "#Eploratory Data Analysis\n",
    "head(advertising)"
   ]
  },
  {
   "cell_type": "code",
   "execution_count": 6,
   "metadata": {},
   "outputs": [
    {
     "data": {
      "text/html": [
       "<table>\n",
       "<thead><tr><th scope=col>Daily Time Spent on Site</th><th scope=col>Age</th><th scope=col>Area Income</th><th scope=col>Daily Internet Usage</th><th scope=col>Ad Topic Line</th><th scope=col>City</th><th scope=col>Male</th><th scope=col>Country</th><th scope=col>Timestamp</th><th scope=col>Clicked on Ad</th></tr></thead>\n",
       "<tbody>\n",
       "\t<tr><td>43.70                               </td><td>28                                  </td><td>63126.96                            </td><td>173.01                              </td><td>Front-line bifurcated ability       </td><td>Nicholasland                        </td><td>0                                   </td><td>Mayotte                             </td><td>04/04/2016 03:57                    </td><td>1                                   </td></tr>\n",
       "\t<tr><td>72.97                               </td><td>30                                  </td><td>71384.57                            </td><td>208.58                              </td><td>Fundamental modular algorithm       </td><td>Duffystad                           </td><td>1                                   </td><td>Lebanon                             </td><td>11/02/2016 21:49                    </td><td>1                                   </td></tr>\n",
       "\t<tr><td>51.30                               </td><td>45                                  </td><td>67782.17                            </td><td>134.42                              </td><td>Grass-roots cohesive monitoring     </td><td>New Darlene                         </td><td>1                                   </td><td>Bosnia and Herzegovina              </td><td>22/04/2016 02:07                    </td><td>1                                   </td></tr>\n",
       "\t<tr><td>51.63                               </td><td>51                                  </td><td>42415.72                            </td><td>120.37                              </td><td>Expanded intangible solution        </td><td>South Jessica                       </td><td>1                                   </td><td>Mongolia                            </td><td>01/02/2016 17:24                    </td><td>1                                   </td></tr>\n",
       "\t<tr><td>55.55                               </td><td>19                                  </td><td>41920.79                            </td><td>187.95                              </td><td>Proactive bandwidth-monitored policy</td><td>West Steven                         </td><td>0                                   </td><td>Guatemala                           </td><td>24/03/2016 02:35                    </td><td>0                                   </td></tr>\n",
       "\t<tr><td>45.01                               </td><td>26                                  </td><td>29875.80                            </td><td>178.35                              </td><td>Virtual 5thgeneration emulation     </td><td>Ronniemouth                         </td><td>0                                   </td><td>Brazil                              </td><td>03/06/2016 21:43                    </td><td>1                                   </td></tr>\n",
       "</tbody>\n",
       "</table>\n"
      ],
      "text/latex": [
       "\\begin{tabular}{r|llllllllll}\n",
       " Daily Time Spent on Site & Age & Area Income & Daily Internet Usage & Ad Topic Line & City & Male & Country & Timestamp & Clicked on Ad\\\\\n",
       "\\hline\n",
       "\t 43.70                                & 28                                   & 63126.96                             & 173.01                               & Front-line bifurcated ability        & Nicholasland                         & 0                                    & Mayotte                              & 04/04/2016 03:57                     & 1                                   \\\\\n",
       "\t 72.97                                & 30                                   & 71384.57                             & 208.58                               & Fundamental modular algorithm        & Duffystad                            & 1                                    & Lebanon                              & 11/02/2016 21:49                     & 1                                   \\\\\n",
       "\t 51.30                                & 45                                   & 67782.17                             & 134.42                               & Grass-roots cohesive monitoring      & New Darlene                          & 1                                    & Bosnia and Herzegovina               & 22/04/2016 02:07                     & 1                                   \\\\\n",
       "\t 51.63                                & 51                                   & 42415.72                             & 120.37                               & Expanded intangible solution         & South Jessica                        & 1                                    & Mongolia                             & 01/02/2016 17:24                     & 1                                   \\\\\n",
       "\t 55.55                                & 19                                   & 41920.79                             & 187.95                               & Proactive bandwidth-monitored policy & West Steven                          & 0                                    & Guatemala                            & 24/03/2016 02:35                     & 0                                   \\\\\n",
       "\t 45.01                                & 26                                   & 29875.80                             & 178.35                               & Virtual 5thgeneration emulation      & Ronniemouth                          & 0                                    & Brazil                               & 03/06/2016 21:43                     & 1                                   \\\\\n",
       "\\end{tabular}\n"
      ],
      "text/markdown": [
       "\n",
       "| Daily Time Spent on Site | Age | Area Income | Daily Internet Usage | Ad Topic Line | City | Male | Country | Timestamp | Clicked on Ad |\n",
       "|---|---|---|---|---|---|---|---|---|---|\n",
       "| 43.70                                | 28                                   | 63126.96                             | 173.01                               | Front-line bifurcated ability        | Nicholasland                         | 0                                    | Mayotte                              | 04/04/2016 03:57                     | 1                                    |\n",
       "| 72.97                                | 30                                   | 71384.57                             | 208.58                               | Fundamental modular algorithm        | Duffystad                            | 1                                    | Lebanon                              | 11/02/2016 21:49                     | 1                                    |\n",
       "| 51.30                                | 45                                   | 67782.17                             | 134.42                               | Grass-roots cohesive monitoring      | New Darlene                          | 1                                    | Bosnia and Herzegovina               | 22/04/2016 02:07                     | 1                                    |\n",
       "| 51.63                                | 51                                   | 42415.72                             | 120.37                               | Expanded intangible solution         | South Jessica                        | 1                                    | Mongolia                             | 01/02/2016 17:24                     | 1                                    |\n",
       "| 55.55                                | 19                                   | 41920.79                             | 187.95                               | Proactive bandwidth-monitored policy | West Steven                          | 0                                    | Guatemala                            | 24/03/2016 02:35                     | 0                                    |\n",
       "| 45.01                                | 26                                   | 29875.80                             | 178.35                               | Virtual 5thgeneration emulation      | Ronniemouth                          | 0                                    | Brazil                               | 03/06/2016 21:43                     | 1                                    |\n",
       "\n"
      ],
      "text/plain": [
       "  Daily Time Spent on Site Age Area Income Daily Internet Usage\n",
       "1 43.70                    28  63126.96    173.01              \n",
       "2 72.97                    30  71384.57    208.58              \n",
       "3 51.30                    45  67782.17    134.42              \n",
       "4 51.63                    51  42415.72    120.37              \n",
       "5 55.55                    19  41920.79    187.95              \n",
       "6 45.01                    26  29875.80    178.35              \n",
       "  Ad Topic Line                        City          Male\n",
       "1 Front-line bifurcated ability        Nicholasland  0   \n",
       "2 Fundamental modular algorithm        Duffystad     1   \n",
       "3 Grass-roots cohesive monitoring      New Darlene   1   \n",
       "4 Expanded intangible solution         South Jessica 1   \n",
       "5 Proactive bandwidth-monitored policy West Steven   0   \n",
       "6 Virtual 5thgeneration emulation      Ronniemouth   0   \n",
       "  Country                Timestamp        Clicked on Ad\n",
       "1 Mayotte                04/04/2016 03:57 1            \n",
       "2 Lebanon                11/02/2016 21:49 1            \n",
       "3 Bosnia and Herzegovina 22/04/2016 02:07 1            \n",
       "4 Mongolia               01/02/2016 17:24 1            \n",
       "5 Guatemala              24/03/2016 02:35 0            \n",
       "6 Brazil                 03/06/2016 21:43 1            "
      ]
     },
     "metadata": {},
     "output_type": "display_data"
    }
   ],
   "source": [
    "tail(advertising)"
   ]
  },
  {
   "cell_type": "code",
   "execution_count": 7,
   "metadata": {},
   "outputs": [
    {
     "data": {
      "text/html": [
       "<ol class=list-inline>\n",
       "\t<li>1000</li>\n",
       "\t<li>10</li>\n",
       "</ol>\n"
      ],
      "text/latex": [
       "\\begin{enumerate*}\n",
       "\\item 1000\n",
       "\\item 10\n",
       "\\end{enumerate*}\n"
      ],
      "text/markdown": [
       "1. 1000\n",
       "2. 10\n",
       "\n",
       "\n"
      ],
      "text/plain": [
       "[1] 1000   10"
      ]
     },
     "metadata": {},
     "output_type": "display_data"
    }
   ],
   "source": [
    "dim(advertising)"
   ]
  },
  {
   "cell_type": "code",
   "execution_count": 8,
   "metadata": {},
   "outputs": [
    {
     "data": {
      "text/html": [
       "<ol class=list-inline>\n",
       "\t<li>'spec_tbl_df'</li>\n",
       "\t<li>'tbl_df'</li>\n",
       "\t<li>'tbl'</li>\n",
       "\t<li>'data.frame'</li>\n",
       "</ol>\n"
      ],
      "text/latex": [
       "\\begin{enumerate*}\n",
       "\\item 'spec\\_tbl\\_df'\n",
       "\\item 'tbl\\_df'\n",
       "\\item 'tbl'\n",
       "\\item 'data.frame'\n",
       "\\end{enumerate*}\n"
      ],
      "text/markdown": [
       "1. 'spec_tbl_df'\n",
       "2. 'tbl_df'\n",
       "3. 'tbl'\n",
       "4. 'data.frame'\n",
       "\n",
       "\n"
      ],
      "text/plain": [
       "[1] \"spec_tbl_df\" \"tbl_df\"      \"tbl\"         \"data.frame\" "
      ]
     },
     "metadata": {},
     "output_type": "display_data"
    }
   ],
   "source": [
    "class(advertising)"
   ]
  },
  {
   "cell_type": "code",
   "execution_count": 9,
   "metadata": {},
   "outputs": [
    {
     "name": "stdout",
     "output_type": "stream",
     "text": [
      "Classes 'spec_tbl_df', 'tbl_df', 'tbl' and 'data.frame':\t1000 obs. of  10 variables:\n",
      " $ Daily Time Spent on Site: num  69 80.2 69.5 74.2 68.4 ...\n",
      " $ Age                     : num  35 31 26 29 35 23 33 48 30 20 ...\n",
      " $ Area Income             : num  61834 68442 59786 54806 73890 ...\n",
      " $ Daily Internet Usage    : num  256 194 236 246 226 ...\n",
      " $ Ad Topic Line           : chr  \"Cloned 5thgeneration orchestration\" \"Monitored national standardization\" \"Organic bottom-line service-desk\" \"Triple-buffered reciprocal time-frame\" ...\n",
      " $ City                    : chr  \"Wrightburgh\" \"West Jodi\" \"Davidton\" \"West Terrifurt\" ...\n",
      " $ Male                    : num  0 1 0 1 0 1 0 1 1 1 ...\n",
      " $ Country                 : chr  \"Tunisia\" \"Nauru\" \"San Marino\" \"Italy\" ...\n",
      " $ Timestamp               : chr  \"27/03/2016 00:53\" \"04/04/2016 01:39\" \"13/03/2016 20:35\" \"10/01/2016 02:31\" ...\n",
      " $ Clicked on Ad           : num  0 0 0 0 0 0 0 1 0 0 ...\n",
      " - attr(*, \"spec\")=\n",
      "  .. cols(\n",
      "  ..   `Daily Time Spent on Site` = col_double(),\n",
      "  ..   Age = col_double(),\n",
      "  ..   `Area Income` = col_double(),\n",
      "  ..   `Daily Internet Usage` = col_double(),\n",
      "  ..   `Ad Topic Line` = col_character(),\n",
      "  ..   City = col_character(),\n",
      "  ..   Male = col_double(),\n",
      "  ..   Country = col_character(),\n",
      "  ..   Timestamp = col_character(),\n",
      "  ..   `Clicked on Ad` = col_double()\n",
      "  .. )\n"
     ]
    }
   ],
   "source": [
    "str(advertising)"
   ]
  },
  {
   "cell_type": "code",
   "execution_count": 10,
   "metadata": {},
   "outputs": [
    {
     "data": {
      "text/html": [
       "<ol class=list-inline>\n",
       "\t<li>'Daily Time Spent on Site'</li>\n",
       "\t<li>'Age'</li>\n",
       "\t<li>'Area Income'</li>\n",
       "\t<li>'Daily Internet Usage'</li>\n",
       "\t<li>'Ad Topic Line'</li>\n",
       "\t<li>'City'</li>\n",
       "\t<li>'Male'</li>\n",
       "\t<li>'Country'</li>\n",
       "\t<li>'Timestamp'</li>\n",
       "\t<li>'Clicked on Ad'</li>\n",
       "</ol>\n"
      ],
      "text/latex": [
       "\\begin{enumerate*}\n",
       "\\item 'Daily Time Spent on Site'\n",
       "\\item 'Age'\n",
       "\\item 'Area Income'\n",
       "\\item 'Daily Internet Usage'\n",
       "\\item 'Ad Topic Line'\n",
       "\\item 'City'\n",
       "\\item 'Male'\n",
       "\\item 'Country'\n",
       "\\item 'Timestamp'\n",
       "\\item 'Clicked on Ad'\n",
       "\\end{enumerate*}\n"
      ],
      "text/markdown": [
       "1. 'Daily Time Spent on Site'\n",
       "2. 'Age'\n",
       "3. 'Area Income'\n",
       "4. 'Daily Internet Usage'\n",
       "5. 'Ad Topic Line'\n",
       "6. 'City'\n",
       "7. 'Male'\n",
       "8. 'Country'\n",
       "9. 'Timestamp'\n",
       "10. 'Clicked on Ad'\n",
       "\n",
       "\n"
      ],
      "text/plain": [
       " [1] \"Daily Time Spent on Site\" \"Age\"                     \n",
       " [3] \"Area Income\"              \"Daily Internet Usage\"    \n",
       " [5] \"Ad Topic Line\"            \"City\"                    \n",
       " [7] \"Male\"                     \"Country\"                 \n",
       " [9] \"Timestamp\"                \"Clicked on Ad\"           "
      ]
     },
     "metadata": {},
     "output_type": "display_data"
    }
   ],
   "source": [
    " names(advertising)"
   ]
  },
  {
   "cell_type": "code",
   "execution_count": 11,
   "metadata": {},
   "outputs": [
    {
     "data": {
      "text/plain": [
       " Daily Time Spent on Site      Age         Area Income    Daily Internet Usage\n",
       " Min.   :32.60            Min.   :19.00   Min.   :13996   Min.   :104.8       \n",
       " 1st Qu.:51.36            1st Qu.:29.00   1st Qu.:47032   1st Qu.:138.8       \n",
       " Median :68.22            Median :35.00   Median :57012   Median :183.1       \n",
       " Mean   :65.00            Mean   :36.01   Mean   :55000   Mean   :180.0       \n",
       " 3rd Qu.:78.55            3rd Qu.:42.00   3rd Qu.:65471   3rd Qu.:218.8       \n",
       " Max.   :91.43            Max.   :61.00   Max.   :79485   Max.   :270.0       \n",
       " Ad Topic Line          City                Male         Country         \n",
       " Length:1000        Length:1000        Min.   :0.000   Length:1000       \n",
       " Class :character   Class :character   1st Qu.:0.000   Class :character  \n",
       " Mode  :character   Mode  :character   Median :0.000   Mode  :character  \n",
       "                                       Mean   :0.481                     \n",
       "                                       3rd Qu.:1.000                     \n",
       "                                       Max.   :1.000                     \n",
       "  Timestamp         Clicked on Ad\n",
       " Length:1000        Min.   :0.0  \n",
       " Class :character   1st Qu.:0.0  \n",
       " Mode  :character   Median :0.5  \n",
       "                    Mean   :0.5  \n",
       "                    3rd Qu.:1.0  \n",
       "                    Max.   :1.0  "
      ]
     },
     "metadata": {},
     "output_type": "display_data"
    }
   ],
   "source": [
    "summary(advertising)"
   ]
  },
  {
   "cell_type": "code",
   "execution_count": 12,
   "metadata": {},
   "outputs": [
    {
     "name": "stdout",
     "output_type": "stream",
     "text": [
      "Observations: 1,000\n",
      "Variables: 10\n",
      "$ `Daily Time Spent on Site` <dbl> 68.95, 80.23, 69.47, 74.15, 68.37, 59.99...\n",
      "$ Age                        <dbl> 35, 31, 26, 29, 35, 23, 33, 48, 30, 20, ...\n",
      "$ `Area Income`              <dbl> 61833.90, 68441.85, 59785.94, 54806.18, ...\n",
      "$ `Daily Internet Usage`     <dbl> 256.09, 193.77, 236.50, 245.89, 225.58, ...\n",
      "$ `Ad Topic Line`            <chr> \"Cloned 5thgeneration orchestration\", \"M...\n",
      "$ City                       <chr> \"Wrightburgh\", \"West Jodi\", \"Davidton\", ...\n",
      "$ Male                       <dbl> 0, 1, 0, 1, 0, 1, 0, 1, 1, 1, 0, 1, 1, 0...\n",
      "$ Country                    <chr> \"Tunisia\", \"Nauru\", \"San Marino\", \"Italy...\n",
      "$ Timestamp                  <chr> \"27/03/2016 00:53\", \"04/04/2016 01:39\", ...\n",
      "$ `Clicked on Ad`            <dbl> 0, 0, 0, 0, 0, 0, 0, 1, 0, 0, 1, 0, 1, 0...\n"
     ]
    }
   ],
   "source": [
    "glimpse(advertising)"
   ]
  },
  {
   "cell_type": "code",
   "execution_count": 13,
   "metadata": {},
   "outputs": [
    {
     "data": {
      "text/html": [
       "<table>\n",
       "<thead><tr><th scope=col>Daily Time Spent on Site</th><th scope=col>Age</th><th scope=col>Area Income</th><th scope=col>Daily Internet Usage</th><th scope=col>Ad Topic Line</th><th scope=col>City</th><th scope=col>Male</th><th scope=col>Country</th><th scope=col>Timestamp</th><th scope=col>Clicked on Ad</th></tr></thead>\n",
       "<tbody>\n",
       "\t<tr><td>FALSE</td><td>FALSE</td><td>FALSE</td><td>FALSE</td><td>FALSE</td><td>FALSE</td><td>FALSE</td><td>FALSE</td><td>FALSE</td><td>FALSE</td></tr>\n",
       "\t<tr><td>FALSE</td><td>FALSE</td><td>FALSE</td><td>FALSE</td><td>FALSE</td><td>FALSE</td><td>FALSE</td><td>FALSE</td><td>FALSE</td><td>FALSE</td></tr>\n",
       "\t<tr><td>FALSE</td><td>FALSE</td><td>FALSE</td><td>FALSE</td><td>FALSE</td><td>FALSE</td><td>FALSE</td><td>FALSE</td><td>FALSE</td><td>FALSE</td></tr>\n",
       "\t<tr><td>FALSE</td><td>FALSE</td><td>FALSE</td><td>FALSE</td><td>FALSE</td><td>FALSE</td><td>FALSE</td><td>FALSE</td><td>FALSE</td><td>FALSE</td></tr>\n",
       "\t<tr><td>FALSE</td><td>FALSE</td><td>FALSE</td><td>FALSE</td><td>FALSE</td><td>FALSE</td><td>FALSE</td><td>FALSE</td><td>FALSE</td><td>FALSE</td></tr>\n",
       "\t<tr><td>FALSE</td><td>FALSE</td><td>FALSE</td><td>FALSE</td><td>FALSE</td><td>FALSE</td><td>FALSE</td><td>FALSE</td><td>FALSE</td><td>FALSE</td></tr>\n",
       "\t<tr><td>FALSE</td><td>FALSE</td><td>FALSE</td><td>FALSE</td><td>FALSE</td><td>FALSE</td><td>FALSE</td><td>FALSE</td><td>FALSE</td><td>FALSE</td></tr>\n",
       "\t<tr><td>FALSE</td><td>FALSE</td><td>FALSE</td><td>FALSE</td><td>FALSE</td><td>FALSE</td><td>FALSE</td><td>FALSE</td><td>FALSE</td><td>FALSE</td></tr>\n",
       "\t<tr><td>FALSE</td><td>FALSE</td><td>FALSE</td><td>FALSE</td><td>FALSE</td><td>FALSE</td><td>FALSE</td><td>FALSE</td><td>FALSE</td><td>FALSE</td></tr>\n",
       "\t<tr><td>FALSE</td><td>FALSE</td><td>FALSE</td><td>FALSE</td><td>FALSE</td><td>FALSE</td><td>FALSE</td><td>FALSE</td><td>FALSE</td><td>FALSE</td></tr>\n",
       "\t<tr><td>FALSE</td><td>FALSE</td><td>FALSE</td><td>FALSE</td><td>FALSE</td><td>FALSE</td><td>FALSE</td><td>FALSE</td><td>FALSE</td><td>FALSE</td></tr>\n",
       "\t<tr><td>FALSE</td><td>FALSE</td><td>FALSE</td><td>FALSE</td><td>FALSE</td><td>FALSE</td><td>FALSE</td><td>FALSE</td><td>FALSE</td><td>FALSE</td></tr>\n",
       "\t<tr><td>FALSE</td><td>FALSE</td><td>FALSE</td><td>FALSE</td><td>FALSE</td><td>FALSE</td><td>FALSE</td><td>FALSE</td><td>FALSE</td><td>FALSE</td></tr>\n",
       "\t<tr><td>FALSE</td><td>FALSE</td><td>FALSE</td><td>FALSE</td><td>FALSE</td><td>FALSE</td><td>FALSE</td><td>FALSE</td><td>FALSE</td><td>FALSE</td></tr>\n",
       "\t<tr><td>FALSE</td><td>FALSE</td><td>FALSE</td><td>FALSE</td><td>FALSE</td><td>FALSE</td><td>FALSE</td><td>FALSE</td><td>FALSE</td><td>FALSE</td></tr>\n",
       "\t<tr><td>FALSE</td><td>FALSE</td><td>FALSE</td><td>FALSE</td><td>FALSE</td><td>FALSE</td><td>FALSE</td><td>FALSE</td><td>FALSE</td><td>FALSE</td></tr>\n",
       "\t<tr><td>FALSE</td><td>FALSE</td><td>FALSE</td><td>FALSE</td><td>FALSE</td><td>FALSE</td><td>FALSE</td><td>FALSE</td><td>FALSE</td><td>FALSE</td></tr>\n",
       "\t<tr><td>FALSE</td><td>FALSE</td><td>FALSE</td><td>FALSE</td><td>FALSE</td><td>FALSE</td><td>FALSE</td><td>FALSE</td><td>FALSE</td><td>FALSE</td></tr>\n",
       "\t<tr><td>FALSE</td><td>FALSE</td><td>FALSE</td><td>FALSE</td><td>FALSE</td><td>FALSE</td><td>FALSE</td><td>FALSE</td><td>FALSE</td><td>FALSE</td></tr>\n",
       "\t<tr><td>FALSE</td><td>FALSE</td><td>FALSE</td><td>FALSE</td><td>FALSE</td><td>FALSE</td><td>FALSE</td><td>FALSE</td><td>FALSE</td><td>FALSE</td></tr>\n",
       "\t<tr><td>FALSE</td><td>FALSE</td><td>FALSE</td><td>FALSE</td><td>FALSE</td><td>FALSE</td><td>FALSE</td><td>FALSE</td><td>FALSE</td><td>FALSE</td></tr>\n",
       "\t<tr><td>FALSE</td><td>FALSE</td><td>FALSE</td><td>FALSE</td><td>FALSE</td><td>FALSE</td><td>FALSE</td><td>FALSE</td><td>FALSE</td><td>FALSE</td></tr>\n",
       "\t<tr><td>FALSE</td><td>FALSE</td><td>FALSE</td><td>FALSE</td><td>FALSE</td><td>FALSE</td><td>FALSE</td><td>FALSE</td><td>FALSE</td><td>FALSE</td></tr>\n",
       "\t<tr><td>FALSE</td><td>FALSE</td><td>FALSE</td><td>FALSE</td><td>FALSE</td><td>FALSE</td><td>FALSE</td><td>FALSE</td><td>FALSE</td><td>FALSE</td></tr>\n",
       "\t<tr><td>FALSE</td><td>FALSE</td><td>FALSE</td><td>FALSE</td><td>FALSE</td><td>FALSE</td><td>FALSE</td><td>FALSE</td><td>FALSE</td><td>FALSE</td></tr>\n",
       "\t<tr><td>FALSE</td><td>FALSE</td><td>FALSE</td><td>FALSE</td><td>FALSE</td><td>FALSE</td><td>FALSE</td><td>FALSE</td><td>FALSE</td><td>FALSE</td></tr>\n",
       "\t<tr><td>FALSE</td><td>FALSE</td><td>FALSE</td><td>FALSE</td><td>FALSE</td><td>FALSE</td><td>FALSE</td><td>FALSE</td><td>FALSE</td><td>FALSE</td></tr>\n",
       "\t<tr><td>FALSE</td><td>FALSE</td><td>FALSE</td><td>FALSE</td><td>FALSE</td><td>FALSE</td><td>FALSE</td><td>FALSE</td><td>FALSE</td><td>FALSE</td></tr>\n",
       "\t<tr><td>FALSE</td><td>FALSE</td><td>FALSE</td><td>FALSE</td><td>FALSE</td><td>FALSE</td><td>FALSE</td><td>FALSE</td><td>FALSE</td><td>FALSE</td></tr>\n",
       "\t<tr><td>FALSE</td><td>FALSE</td><td>FALSE</td><td>FALSE</td><td>FALSE</td><td>FALSE</td><td>FALSE</td><td>FALSE</td><td>FALSE</td><td>FALSE</td></tr>\n",
       "\t<tr><td>...</td><td>...</td><td>...</td><td>...</td><td>...</td><td>...</td><td>...</td><td>...</td><td>...</td><td>...</td></tr>\n",
       "\t<tr><td>FALSE</td><td>FALSE</td><td>FALSE</td><td>FALSE</td><td>FALSE</td><td>FALSE</td><td>FALSE</td><td>FALSE</td><td>FALSE</td><td>FALSE</td></tr>\n",
       "\t<tr><td>FALSE</td><td>FALSE</td><td>FALSE</td><td>FALSE</td><td>FALSE</td><td>FALSE</td><td>FALSE</td><td>FALSE</td><td>FALSE</td><td>FALSE</td></tr>\n",
       "\t<tr><td>FALSE</td><td>FALSE</td><td>FALSE</td><td>FALSE</td><td>FALSE</td><td>FALSE</td><td>FALSE</td><td>FALSE</td><td>FALSE</td><td>FALSE</td></tr>\n",
       "\t<tr><td>FALSE</td><td>FALSE</td><td>FALSE</td><td>FALSE</td><td>FALSE</td><td>FALSE</td><td>FALSE</td><td>FALSE</td><td>FALSE</td><td>FALSE</td></tr>\n",
       "\t<tr><td>FALSE</td><td>FALSE</td><td>FALSE</td><td>FALSE</td><td>FALSE</td><td>FALSE</td><td>FALSE</td><td>FALSE</td><td>FALSE</td><td>FALSE</td></tr>\n",
       "\t<tr><td>FALSE</td><td>FALSE</td><td>FALSE</td><td>FALSE</td><td>FALSE</td><td>FALSE</td><td>FALSE</td><td>FALSE</td><td>FALSE</td><td>FALSE</td></tr>\n",
       "\t<tr><td>FALSE</td><td>FALSE</td><td>FALSE</td><td>FALSE</td><td>FALSE</td><td>FALSE</td><td>FALSE</td><td>FALSE</td><td>FALSE</td><td>FALSE</td></tr>\n",
       "\t<tr><td>FALSE</td><td>FALSE</td><td>FALSE</td><td>FALSE</td><td>FALSE</td><td>FALSE</td><td>FALSE</td><td>FALSE</td><td>FALSE</td><td>FALSE</td></tr>\n",
       "\t<tr><td>FALSE</td><td>FALSE</td><td>FALSE</td><td>FALSE</td><td>FALSE</td><td>FALSE</td><td>FALSE</td><td>FALSE</td><td>FALSE</td><td>FALSE</td></tr>\n",
       "\t<tr><td>FALSE</td><td>FALSE</td><td>FALSE</td><td>FALSE</td><td>FALSE</td><td>FALSE</td><td>FALSE</td><td>FALSE</td><td>FALSE</td><td>FALSE</td></tr>\n",
       "\t<tr><td>FALSE</td><td>FALSE</td><td>FALSE</td><td>FALSE</td><td>FALSE</td><td>FALSE</td><td>FALSE</td><td>FALSE</td><td>FALSE</td><td>FALSE</td></tr>\n",
       "\t<tr><td>FALSE</td><td>FALSE</td><td>FALSE</td><td>FALSE</td><td>FALSE</td><td>FALSE</td><td>FALSE</td><td>FALSE</td><td>FALSE</td><td>FALSE</td></tr>\n",
       "\t<tr><td>FALSE</td><td>FALSE</td><td>FALSE</td><td>FALSE</td><td>FALSE</td><td>FALSE</td><td>FALSE</td><td>FALSE</td><td>FALSE</td><td>FALSE</td></tr>\n",
       "\t<tr><td>FALSE</td><td>FALSE</td><td>FALSE</td><td>FALSE</td><td>FALSE</td><td>FALSE</td><td>FALSE</td><td>FALSE</td><td>FALSE</td><td>FALSE</td></tr>\n",
       "\t<tr><td>FALSE</td><td>FALSE</td><td>FALSE</td><td>FALSE</td><td>FALSE</td><td>FALSE</td><td>FALSE</td><td>FALSE</td><td>FALSE</td><td>FALSE</td></tr>\n",
       "\t<tr><td>FALSE</td><td>FALSE</td><td>FALSE</td><td>FALSE</td><td>FALSE</td><td>FALSE</td><td>FALSE</td><td>FALSE</td><td>FALSE</td><td>FALSE</td></tr>\n",
       "\t<tr><td>FALSE</td><td>FALSE</td><td>FALSE</td><td>FALSE</td><td>FALSE</td><td>FALSE</td><td>FALSE</td><td>FALSE</td><td>FALSE</td><td>FALSE</td></tr>\n",
       "\t<tr><td>FALSE</td><td>FALSE</td><td>FALSE</td><td>FALSE</td><td>FALSE</td><td>FALSE</td><td>FALSE</td><td>FALSE</td><td>FALSE</td><td>FALSE</td></tr>\n",
       "\t<tr><td>FALSE</td><td>FALSE</td><td>FALSE</td><td>FALSE</td><td>FALSE</td><td>FALSE</td><td>FALSE</td><td>FALSE</td><td>FALSE</td><td>FALSE</td></tr>\n",
       "\t<tr><td>FALSE</td><td>FALSE</td><td>FALSE</td><td>FALSE</td><td>FALSE</td><td>FALSE</td><td>FALSE</td><td>FALSE</td><td>FALSE</td><td>FALSE</td></tr>\n",
       "\t<tr><td>FALSE</td><td>FALSE</td><td>FALSE</td><td>FALSE</td><td>FALSE</td><td>FALSE</td><td>FALSE</td><td>FALSE</td><td>FALSE</td><td>FALSE</td></tr>\n",
       "\t<tr><td>FALSE</td><td>FALSE</td><td>FALSE</td><td>FALSE</td><td>FALSE</td><td>FALSE</td><td>FALSE</td><td>FALSE</td><td>FALSE</td><td>FALSE</td></tr>\n",
       "\t<tr><td>FALSE</td><td>FALSE</td><td>FALSE</td><td>FALSE</td><td>FALSE</td><td>FALSE</td><td>FALSE</td><td>FALSE</td><td>FALSE</td><td>FALSE</td></tr>\n",
       "\t<tr><td>FALSE</td><td>FALSE</td><td>FALSE</td><td>FALSE</td><td>FALSE</td><td>FALSE</td><td>FALSE</td><td>FALSE</td><td>FALSE</td><td>FALSE</td></tr>\n",
       "\t<tr><td>FALSE</td><td>FALSE</td><td>FALSE</td><td>FALSE</td><td>FALSE</td><td>FALSE</td><td>FALSE</td><td>FALSE</td><td>FALSE</td><td>FALSE</td></tr>\n",
       "\t<tr><td>FALSE</td><td>FALSE</td><td>FALSE</td><td>FALSE</td><td>FALSE</td><td>FALSE</td><td>FALSE</td><td>FALSE</td><td>FALSE</td><td>FALSE</td></tr>\n",
       "\t<tr><td>FALSE</td><td>FALSE</td><td>FALSE</td><td>FALSE</td><td>FALSE</td><td>FALSE</td><td>FALSE</td><td>FALSE</td><td>FALSE</td><td>FALSE</td></tr>\n",
       "\t<tr><td>FALSE</td><td>FALSE</td><td>FALSE</td><td>FALSE</td><td>FALSE</td><td>FALSE</td><td>FALSE</td><td>FALSE</td><td>FALSE</td><td>FALSE</td></tr>\n",
       "\t<tr><td>FALSE</td><td>FALSE</td><td>FALSE</td><td>FALSE</td><td>FALSE</td><td>FALSE</td><td>FALSE</td><td>FALSE</td><td>FALSE</td><td>FALSE</td></tr>\n",
       "\t<tr><td>FALSE</td><td>FALSE</td><td>FALSE</td><td>FALSE</td><td>FALSE</td><td>FALSE</td><td>FALSE</td><td>FALSE</td><td>FALSE</td><td>FALSE</td></tr>\n",
       "</tbody>\n",
       "</table>\n"
      ],
      "text/latex": [
       "\\begin{tabular}{llllllllll}\n",
       " Daily Time Spent on Site & Age & Area Income & Daily Internet Usage & Ad Topic Line & City & Male & Country & Timestamp & Clicked on Ad\\\\\n",
       "\\hline\n",
       "\t FALSE & FALSE & FALSE & FALSE & FALSE & FALSE & FALSE & FALSE & FALSE & FALSE\\\\\n",
       "\t FALSE & FALSE & FALSE & FALSE & FALSE & FALSE & FALSE & FALSE & FALSE & FALSE\\\\\n",
       "\t FALSE & FALSE & FALSE & FALSE & FALSE & FALSE & FALSE & FALSE & FALSE & FALSE\\\\\n",
       "\t FALSE & FALSE & FALSE & FALSE & FALSE & FALSE & FALSE & FALSE & FALSE & FALSE\\\\\n",
       "\t FALSE & FALSE & FALSE & FALSE & FALSE & FALSE & FALSE & FALSE & FALSE & FALSE\\\\\n",
       "\t FALSE & FALSE & FALSE & FALSE & FALSE & FALSE & FALSE & FALSE & FALSE & FALSE\\\\\n",
       "\t FALSE & FALSE & FALSE & FALSE & FALSE & FALSE & FALSE & FALSE & FALSE & FALSE\\\\\n",
       "\t FALSE & FALSE & FALSE & FALSE & FALSE & FALSE & FALSE & FALSE & FALSE & FALSE\\\\\n",
       "\t FALSE & FALSE & FALSE & FALSE & FALSE & FALSE & FALSE & FALSE & FALSE & FALSE\\\\\n",
       "\t FALSE & FALSE & FALSE & FALSE & FALSE & FALSE & FALSE & FALSE & FALSE & FALSE\\\\\n",
       "\t FALSE & FALSE & FALSE & FALSE & FALSE & FALSE & FALSE & FALSE & FALSE & FALSE\\\\\n",
       "\t FALSE & FALSE & FALSE & FALSE & FALSE & FALSE & FALSE & FALSE & FALSE & FALSE\\\\\n",
       "\t FALSE & FALSE & FALSE & FALSE & FALSE & FALSE & FALSE & FALSE & FALSE & FALSE\\\\\n",
       "\t FALSE & FALSE & FALSE & FALSE & FALSE & FALSE & FALSE & FALSE & FALSE & FALSE\\\\\n",
       "\t FALSE & FALSE & FALSE & FALSE & FALSE & FALSE & FALSE & FALSE & FALSE & FALSE\\\\\n",
       "\t FALSE & FALSE & FALSE & FALSE & FALSE & FALSE & FALSE & FALSE & FALSE & FALSE\\\\\n",
       "\t FALSE & FALSE & FALSE & FALSE & FALSE & FALSE & FALSE & FALSE & FALSE & FALSE\\\\\n",
       "\t FALSE & FALSE & FALSE & FALSE & FALSE & FALSE & FALSE & FALSE & FALSE & FALSE\\\\\n",
       "\t FALSE & FALSE & FALSE & FALSE & FALSE & FALSE & FALSE & FALSE & FALSE & FALSE\\\\\n",
       "\t FALSE & FALSE & FALSE & FALSE & FALSE & FALSE & FALSE & FALSE & FALSE & FALSE\\\\\n",
       "\t FALSE & FALSE & FALSE & FALSE & FALSE & FALSE & FALSE & FALSE & FALSE & FALSE\\\\\n",
       "\t FALSE & FALSE & FALSE & FALSE & FALSE & FALSE & FALSE & FALSE & FALSE & FALSE\\\\\n",
       "\t FALSE & FALSE & FALSE & FALSE & FALSE & FALSE & FALSE & FALSE & FALSE & FALSE\\\\\n",
       "\t FALSE & FALSE & FALSE & FALSE & FALSE & FALSE & FALSE & FALSE & FALSE & FALSE\\\\\n",
       "\t FALSE & FALSE & FALSE & FALSE & FALSE & FALSE & FALSE & FALSE & FALSE & FALSE\\\\\n",
       "\t FALSE & FALSE & FALSE & FALSE & FALSE & FALSE & FALSE & FALSE & FALSE & FALSE\\\\\n",
       "\t FALSE & FALSE & FALSE & FALSE & FALSE & FALSE & FALSE & FALSE & FALSE & FALSE\\\\\n",
       "\t FALSE & FALSE & FALSE & FALSE & FALSE & FALSE & FALSE & FALSE & FALSE & FALSE\\\\\n",
       "\t FALSE & FALSE & FALSE & FALSE & FALSE & FALSE & FALSE & FALSE & FALSE & FALSE\\\\\n",
       "\t FALSE & FALSE & FALSE & FALSE & FALSE & FALSE & FALSE & FALSE & FALSE & FALSE\\\\\n",
       "\t ... & ... & ... & ... & ... & ... & ... & ... & ... & ...\\\\\n",
       "\t FALSE & FALSE & FALSE & FALSE & FALSE & FALSE & FALSE & FALSE & FALSE & FALSE\\\\\n",
       "\t FALSE & FALSE & FALSE & FALSE & FALSE & FALSE & FALSE & FALSE & FALSE & FALSE\\\\\n",
       "\t FALSE & FALSE & FALSE & FALSE & FALSE & FALSE & FALSE & FALSE & FALSE & FALSE\\\\\n",
       "\t FALSE & FALSE & FALSE & FALSE & FALSE & FALSE & FALSE & FALSE & FALSE & FALSE\\\\\n",
       "\t FALSE & FALSE & FALSE & FALSE & FALSE & FALSE & FALSE & FALSE & FALSE & FALSE\\\\\n",
       "\t FALSE & FALSE & FALSE & FALSE & FALSE & FALSE & FALSE & FALSE & FALSE & FALSE\\\\\n",
       "\t FALSE & FALSE & FALSE & FALSE & FALSE & FALSE & FALSE & FALSE & FALSE & FALSE\\\\\n",
       "\t FALSE & FALSE & FALSE & FALSE & FALSE & FALSE & FALSE & FALSE & FALSE & FALSE\\\\\n",
       "\t FALSE & FALSE & FALSE & FALSE & FALSE & FALSE & FALSE & FALSE & FALSE & FALSE\\\\\n",
       "\t FALSE & FALSE & FALSE & FALSE & FALSE & FALSE & FALSE & FALSE & FALSE & FALSE\\\\\n",
       "\t FALSE & FALSE & FALSE & FALSE & FALSE & FALSE & FALSE & FALSE & FALSE & FALSE\\\\\n",
       "\t FALSE & FALSE & FALSE & FALSE & FALSE & FALSE & FALSE & FALSE & FALSE & FALSE\\\\\n",
       "\t FALSE & FALSE & FALSE & FALSE & FALSE & FALSE & FALSE & FALSE & FALSE & FALSE\\\\\n",
       "\t FALSE & FALSE & FALSE & FALSE & FALSE & FALSE & FALSE & FALSE & FALSE & FALSE\\\\\n",
       "\t FALSE & FALSE & FALSE & FALSE & FALSE & FALSE & FALSE & FALSE & FALSE & FALSE\\\\\n",
       "\t FALSE & FALSE & FALSE & FALSE & FALSE & FALSE & FALSE & FALSE & FALSE & FALSE\\\\\n",
       "\t FALSE & FALSE & FALSE & FALSE & FALSE & FALSE & FALSE & FALSE & FALSE & FALSE\\\\\n",
       "\t FALSE & FALSE & FALSE & FALSE & FALSE & FALSE & FALSE & FALSE & FALSE & FALSE\\\\\n",
       "\t FALSE & FALSE & FALSE & FALSE & FALSE & FALSE & FALSE & FALSE & FALSE & FALSE\\\\\n",
       "\t FALSE & FALSE & FALSE & FALSE & FALSE & FALSE & FALSE & FALSE & FALSE & FALSE\\\\\n",
       "\t FALSE & FALSE & FALSE & FALSE & FALSE & FALSE & FALSE & FALSE & FALSE & FALSE\\\\\n",
       "\t FALSE & FALSE & FALSE & FALSE & FALSE & FALSE & FALSE & FALSE & FALSE & FALSE\\\\\n",
       "\t FALSE & FALSE & FALSE & FALSE & FALSE & FALSE & FALSE & FALSE & FALSE & FALSE\\\\\n",
       "\t FALSE & FALSE & FALSE & FALSE & FALSE & FALSE & FALSE & FALSE & FALSE & FALSE\\\\\n",
       "\t FALSE & FALSE & FALSE & FALSE & FALSE & FALSE & FALSE & FALSE & FALSE & FALSE\\\\\n",
       "\t FALSE & FALSE & FALSE & FALSE & FALSE & FALSE & FALSE & FALSE & FALSE & FALSE\\\\\n",
       "\t FALSE & FALSE & FALSE & FALSE & FALSE & FALSE & FALSE & FALSE & FALSE & FALSE\\\\\n",
       "\t FALSE & FALSE & FALSE & FALSE & FALSE & FALSE & FALSE & FALSE & FALSE & FALSE\\\\\n",
       "\t FALSE & FALSE & FALSE & FALSE & FALSE & FALSE & FALSE & FALSE & FALSE & FALSE\\\\\n",
       "\t FALSE & FALSE & FALSE & FALSE & FALSE & FALSE & FALSE & FALSE & FALSE & FALSE\\\\\n",
       "\\end{tabular}\n"
      ],
      "text/markdown": [
       "\n",
       "| Daily Time Spent on Site | Age | Area Income | Daily Internet Usage | Ad Topic Line | City | Male | Country | Timestamp | Clicked on Ad |\n",
       "|---|---|---|---|---|---|---|---|---|---|\n",
       "| FALSE | FALSE | FALSE | FALSE | FALSE | FALSE | FALSE | FALSE | FALSE | FALSE |\n",
       "| FALSE | FALSE | FALSE | FALSE | FALSE | FALSE | FALSE | FALSE | FALSE | FALSE |\n",
       "| FALSE | FALSE | FALSE | FALSE | FALSE | FALSE | FALSE | FALSE | FALSE | FALSE |\n",
       "| FALSE | FALSE | FALSE | FALSE | FALSE | FALSE | FALSE | FALSE | FALSE | FALSE |\n",
       "| FALSE | FALSE | FALSE | FALSE | FALSE | FALSE | FALSE | FALSE | FALSE | FALSE |\n",
       "| FALSE | FALSE | FALSE | FALSE | FALSE | FALSE | FALSE | FALSE | FALSE | FALSE |\n",
       "| FALSE | FALSE | FALSE | FALSE | FALSE | FALSE | FALSE | FALSE | FALSE | FALSE |\n",
       "| FALSE | FALSE | FALSE | FALSE | FALSE | FALSE | FALSE | FALSE | FALSE | FALSE |\n",
       "| FALSE | FALSE | FALSE | FALSE | FALSE | FALSE | FALSE | FALSE | FALSE | FALSE |\n",
       "| FALSE | FALSE | FALSE | FALSE | FALSE | FALSE | FALSE | FALSE | FALSE | FALSE |\n",
       "| FALSE | FALSE | FALSE | FALSE | FALSE | FALSE | FALSE | FALSE | FALSE | FALSE |\n",
       "| FALSE | FALSE | FALSE | FALSE | FALSE | FALSE | FALSE | FALSE | FALSE | FALSE |\n",
       "| FALSE | FALSE | FALSE | FALSE | FALSE | FALSE | FALSE | FALSE | FALSE | FALSE |\n",
       "| FALSE | FALSE | FALSE | FALSE | FALSE | FALSE | FALSE | FALSE | FALSE | FALSE |\n",
       "| FALSE | FALSE | FALSE | FALSE | FALSE | FALSE | FALSE | FALSE | FALSE | FALSE |\n",
       "| FALSE | FALSE | FALSE | FALSE | FALSE | FALSE | FALSE | FALSE | FALSE | FALSE |\n",
       "| FALSE | FALSE | FALSE | FALSE | FALSE | FALSE | FALSE | FALSE | FALSE | FALSE |\n",
       "| FALSE | FALSE | FALSE | FALSE | FALSE | FALSE | FALSE | FALSE | FALSE | FALSE |\n",
       "| FALSE | FALSE | FALSE | FALSE | FALSE | FALSE | FALSE | FALSE | FALSE | FALSE |\n",
       "| FALSE | FALSE | FALSE | FALSE | FALSE | FALSE | FALSE | FALSE | FALSE | FALSE |\n",
       "| FALSE | FALSE | FALSE | FALSE | FALSE | FALSE | FALSE | FALSE | FALSE | FALSE |\n",
       "| FALSE | FALSE | FALSE | FALSE | FALSE | FALSE | FALSE | FALSE | FALSE | FALSE |\n",
       "| FALSE | FALSE | FALSE | FALSE | FALSE | FALSE | FALSE | FALSE | FALSE | FALSE |\n",
       "| FALSE | FALSE | FALSE | FALSE | FALSE | FALSE | FALSE | FALSE | FALSE | FALSE |\n",
       "| FALSE | FALSE | FALSE | FALSE | FALSE | FALSE | FALSE | FALSE | FALSE | FALSE |\n",
       "| FALSE | FALSE | FALSE | FALSE | FALSE | FALSE | FALSE | FALSE | FALSE | FALSE |\n",
       "| FALSE | FALSE | FALSE | FALSE | FALSE | FALSE | FALSE | FALSE | FALSE | FALSE |\n",
       "| FALSE | FALSE | FALSE | FALSE | FALSE | FALSE | FALSE | FALSE | FALSE | FALSE |\n",
       "| FALSE | FALSE | FALSE | FALSE | FALSE | FALSE | FALSE | FALSE | FALSE | FALSE |\n",
       "| FALSE | FALSE | FALSE | FALSE | FALSE | FALSE | FALSE | FALSE | FALSE | FALSE |\n",
       "| ... | ... | ... | ... | ... | ... | ... | ... | ... | ... |\n",
       "| FALSE | FALSE | FALSE | FALSE | FALSE | FALSE | FALSE | FALSE | FALSE | FALSE |\n",
       "| FALSE | FALSE | FALSE | FALSE | FALSE | FALSE | FALSE | FALSE | FALSE | FALSE |\n",
       "| FALSE | FALSE | FALSE | FALSE | FALSE | FALSE | FALSE | FALSE | FALSE | FALSE |\n",
       "| FALSE | FALSE | FALSE | FALSE | FALSE | FALSE | FALSE | FALSE | FALSE | FALSE |\n",
       "| FALSE | FALSE | FALSE | FALSE | FALSE | FALSE | FALSE | FALSE | FALSE | FALSE |\n",
       "| FALSE | FALSE | FALSE | FALSE | FALSE | FALSE | FALSE | FALSE | FALSE | FALSE |\n",
       "| FALSE | FALSE | FALSE | FALSE | FALSE | FALSE | FALSE | FALSE | FALSE | FALSE |\n",
       "| FALSE | FALSE | FALSE | FALSE | FALSE | FALSE | FALSE | FALSE | FALSE | FALSE |\n",
       "| FALSE | FALSE | FALSE | FALSE | FALSE | FALSE | FALSE | FALSE | FALSE | FALSE |\n",
       "| FALSE | FALSE | FALSE | FALSE | FALSE | FALSE | FALSE | FALSE | FALSE | FALSE |\n",
       "| FALSE | FALSE | FALSE | FALSE | FALSE | FALSE | FALSE | FALSE | FALSE | FALSE |\n",
       "| FALSE | FALSE | FALSE | FALSE | FALSE | FALSE | FALSE | FALSE | FALSE | FALSE |\n",
       "| FALSE | FALSE | FALSE | FALSE | FALSE | FALSE | FALSE | FALSE | FALSE | FALSE |\n",
       "| FALSE | FALSE | FALSE | FALSE | FALSE | FALSE | FALSE | FALSE | FALSE | FALSE |\n",
       "| FALSE | FALSE | FALSE | FALSE | FALSE | FALSE | FALSE | FALSE | FALSE | FALSE |\n",
       "| FALSE | FALSE | FALSE | FALSE | FALSE | FALSE | FALSE | FALSE | FALSE | FALSE |\n",
       "| FALSE | FALSE | FALSE | FALSE | FALSE | FALSE | FALSE | FALSE | FALSE | FALSE |\n",
       "| FALSE | FALSE | FALSE | FALSE | FALSE | FALSE | FALSE | FALSE | FALSE | FALSE |\n",
       "| FALSE | FALSE | FALSE | FALSE | FALSE | FALSE | FALSE | FALSE | FALSE | FALSE |\n",
       "| FALSE | FALSE | FALSE | FALSE | FALSE | FALSE | FALSE | FALSE | FALSE | FALSE |\n",
       "| FALSE | FALSE | FALSE | FALSE | FALSE | FALSE | FALSE | FALSE | FALSE | FALSE |\n",
       "| FALSE | FALSE | FALSE | FALSE | FALSE | FALSE | FALSE | FALSE | FALSE | FALSE |\n",
       "| FALSE | FALSE | FALSE | FALSE | FALSE | FALSE | FALSE | FALSE | FALSE | FALSE |\n",
       "| FALSE | FALSE | FALSE | FALSE | FALSE | FALSE | FALSE | FALSE | FALSE | FALSE |\n",
       "| FALSE | FALSE | FALSE | FALSE | FALSE | FALSE | FALSE | FALSE | FALSE | FALSE |\n",
       "| FALSE | FALSE | FALSE | FALSE | FALSE | FALSE | FALSE | FALSE | FALSE | FALSE |\n",
       "| FALSE | FALSE | FALSE | FALSE | FALSE | FALSE | FALSE | FALSE | FALSE | FALSE |\n",
       "| FALSE | FALSE | FALSE | FALSE | FALSE | FALSE | FALSE | FALSE | FALSE | FALSE |\n",
       "| FALSE | FALSE | FALSE | FALSE | FALSE | FALSE | FALSE | FALSE | FALSE | FALSE |\n",
       "| FALSE | FALSE | FALSE | FALSE | FALSE | FALSE | FALSE | FALSE | FALSE | FALSE |\n",
       "\n"
      ],
      "text/plain": [
       "      Daily Time Spent on Site Age   Area Income Daily Internet Usage\n",
       " [1,] FALSE                    FALSE FALSE       FALSE               \n",
       " [2,] FALSE                    FALSE FALSE       FALSE               \n",
       " [3,] FALSE                    FALSE FALSE       FALSE               \n",
       " [4,] FALSE                    FALSE FALSE       FALSE               \n",
       " [5,] FALSE                    FALSE FALSE       FALSE               \n",
       " [6,] FALSE                    FALSE FALSE       FALSE               \n",
       " [7,] FALSE                    FALSE FALSE       FALSE               \n",
       " [8,] FALSE                    FALSE FALSE       FALSE               \n",
       " [9,] FALSE                    FALSE FALSE       FALSE               \n",
       "[10,] FALSE                    FALSE FALSE       FALSE               \n",
       "[11,] FALSE                    FALSE FALSE       FALSE               \n",
       "[12,] FALSE                    FALSE FALSE       FALSE               \n",
       "[13,] FALSE                    FALSE FALSE       FALSE               \n",
       "[14,] FALSE                    FALSE FALSE       FALSE               \n",
       "[15,] FALSE                    FALSE FALSE       FALSE               \n",
       "[16,] FALSE                    FALSE FALSE       FALSE               \n",
       "[17,] FALSE                    FALSE FALSE       FALSE               \n",
       "[18,] FALSE                    FALSE FALSE       FALSE               \n",
       "[19,] FALSE                    FALSE FALSE       FALSE               \n",
       "[20,] FALSE                    FALSE FALSE       FALSE               \n",
       "[21,] FALSE                    FALSE FALSE       FALSE               \n",
       "[22,] FALSE                    FALSE FALSE       FALSE               \n",
       "[23,] FALSE                    FALSE FALSE       FALSE               \n",
       "[24,] FALSE                    FALSE FALSE       FALSE               \n",
       "[25,] FALSE                    FALSE FALSE       FALSE               \n",
       "[26,] FALSE                    FALSE FALSE       FALSE               \n",
       "[27,] FALSE                    FALSE FALSE       FALSE               \n",
       "[28,] FALSE                    FALSE FALSE       FALSE               \n",
       "[29,] FALSE                    FALSE FALSE       FALSE               \n",
       "[30,] FALSE                    FALSE FALSE       FALSE               \n",
       "[31,] ...                      ...   ...         ...                 \n",
       "[32,] FALSE                    FALSE FALSE       FALSE               \n",
       "[33,] FALSE                    FALSE FALSE       FALSE               \n",
       "[34,] FALSE                    FALSE FALSE       FALSE               \n",
       "[35,] FALSE                    FALSE FALSE       FALSE               \n",
       "[36,] FALSE                    FALSE FALSE       FALSE               \n",
       "[37,] FALSE                    FALSE FALSE       FALSE               \n",
       "[38,] FALSE                    FALSE FALSE       FALSE               \n",
       "[39,] FALSE                    FALSE FALSE       FALSE               \n",
       "[40,] FALSE                    FALSE FALSE       FALSE               \n",
       "[41,] FALSE                    FALSE FALSE       FALSE               \n",
       "[42,] FALSE                    FALSE FALSE       FALSE               \n",
       "[43,] FALSE                    FALSE FALSE       FALSE               \n",
       "[44,] FALSE                    FALSE FALSE       FALSE               \n",
       "[45,] FALSE                    FALSE FALSE       FALSE               \n",
       "[46,] FALSE                    FALSE FALSE       FALSE               \n",
       "[47,] FALSE                    FALSE FALSE       FALSE               \n",
       "[48,] FALSE                    FALSE FALSE       FALSE               \n",
       "[49,] FALSE                    FALSE FALSE       FALSE               \n",
       "[50,] FALSE                    FALSE FALSE       FALSE               \n",
       "[51,] FALSE                    FALSE FALSE       FALSE               \n",
       "[52,] FALSE                    FALSE FALSE       FALSE               \n",
       "[53,] FALSE                    FALSE FALSE       FALSE               \n",
       "[54,] FALSE                    FALSE FALSE       FALSE               \n",
       "[55,] FALSE                    FALSE FALSE       FALSE               \n",
       "[56,] FALSE                    FALSE FALSE       FALSE               \n",
       "[57,] FALSE                    FALSE FALSE       FALSE               \n",
       "[58,] FALSE                    FALSE FALSE       FALSE               \n",
       "[59,] FALSE                    FALSE FALSE       FALSE               \n",
       "[60,] FALSE                    FALSE FALSE       FALSE               \n",
       "[61,] FALSE                    FALSE FALSE       FALSE               \n",
       "      Ad Topic Line City  Male  Country Timestamp Clicked on Ad\n",
       " [1,] FALSE         FALSE FALSE FALSE   FALSE     FALSE        \n",
       " [2,] FALSE         FALSE FALSE FALSE   FALSE     FALSE        \n",
       " [3,] FALSE         FALSE FALSE FALSE   FALSE     FALSE        \n",
       " [4,] FALSE         FALSE FALSE FALSE   FALSE     FALSE        \n",
       " [5,] FALSE         FALSE FALSE FALSE   FALSE     FALSE        \n",
       " [6,] FALSE         FALSE FALSE FALSE   FALSE     FALSE        \n",
       " [7,] FALSE         FALSE FALSE FALSE   FALSE     FALSE        \n",
       " [8,] FALSE         FALSE FALSE FALSE   FALSE     FALSE        \n",
       " [9,] FALSE         FALSE FALSE FALSE   FALSE     FALSE        \n",
       "[10,] FALSE         FALSE FALSE FALSE   FALSE     FALSE        \n",
       "[11,] FALSE         FALSE FALSE FALSE   FALSE     FALSE        \n",
       "[12,] FALSE         FALSE FALSE FALSE   FALSE     FALSE        \n",
       "[13,] FALSE         FALSE FALSE FALSE   FALSE     FALSE        \n",
       "[14,] FALSE         FALSE FALSE FALSE   FALSE     FALSE        \n",
       "[15,] FALSE         FALSE FALSE FALSE   FALSE     FALSE        \n",
       "[16,] FALSE         FALSE FALSE FALSE   FALSE     FALSE        \n",
       "[17,] FALSE         FALSE FALSE FALSE   FALSE     FALSE        \n",
       "[18,] FALSE         FALSE FALSE FALSE   FALSE     FALSE        \n",
       "[19,] FALSE         FALSE FALSE FALSE   FALSE     FALSE        \n",
       "[20,] FALSE         FALSE FALSE FALSE   FALSE     FALSE        \n",
       "[21,] FALSE         FALSE FALSE FALSE   FALSE     FALSE        \n",
       "[22,] FALSE         FALSE FALSE FALSE   FALSE     FALSE        \n",
       "[23,] FALSE         FALSE FALSE FALSE   FALSE     FALSE        \n",
       "[24,] FALSE         FALSE FALSE FALSE   FALSE     FALSE        \n",
       "[25,] FALSE         FALSE FALSE FALSE   FALSE     FALSE        \n",
       "[26,] FALSE         FALSE FALSE FALSE   FALSE     FALSE        \n",
       "[27,] FALSE         FALSE FALSE FALSE   FALSE     FALSE        \n",
       "[28,] FALSE         FALSE FALSE FALSE   FALSE     FALSE        \n",
       "[29,] FALSE         FALSE FALSE FALSE   FALSE     FALSE        \n",
       "[30,] FALSE         FALSE FALSE FALSE   FALSE     FALSE        \n",
       "[31,] ...           ...   ...   ...     ...       ...          \n",
       "[32,] FALSE         FALSE FALSE FALSE   FALSE     FALSE        \n",
       "[33,] FALSE         FALSE FALSE FALSE   FALSE     FALSE        \n",
       "[34,] FALSE         FALSE FALSE FALSE   FALSE     FALSE        \n",
       "[35,] FALSE         FALSE FALSE FALSE   FALSE     FALSE        \n",
       "[36,] FALSE         FALSE FALSE FALSE   FALSE     FALSE        \n",
       "[37,] FALSE         FALSE FALSE FALSE   FALSE     FALSE        \n",
       "[38,] FALSE         FALSE FALSE FALSE   FALSE     FALSE        \n",
       "[39,] FALSE         FALSE FALSE FALSE   FALSE     FALSE        \n",
       "[40,] FALSE         FALSE FALSE FALSE   FALSE     FALSE        \n",
       "[41,] FALSE         FALSE FALSE FALSE   FALSE     FALSE        \n",
       "[42,] FALSE         FALSE FALSE FALSE   FALSE     FALSE        \n",
       "[43,] FALSE         FALSE FALSE FALSE   FALSE     FALSE        \n",
       "[44,] FALSE         FALSE FALSE FALSE   FALSE     FALSE        \n",
       "[45,] FALSE         FALSE FALSE FALSE   FALSE     FALSE        \n",
       "[46,] FALSE         FALSE FALSE FALSE   FALSE     FALSE        \n",
       "[47,] FALSE         FALSE FALSE FALSE   FALSE     FALSE        \n",
       "[48,] FALSE         FALSE FALSE FALSE   FALSE     FALSE        \n",
       "[49,] FALSE         FALSE FALSE FALSE   FALSE     FALSE        \n",
       "[50,] FALSE         FALSE FALSE FALSE   FALSE     FALSE        \n",
       "[51,] FALSE         FALSE FALSE FALSE   FALSE     FALSE        \n",
       "[52,] FALSE         FALSE FALSE FALSE   FALSE     FALSE        \n",
       "[53,] FALSE         FALSE FALSE FALSE   FALSE     FALSE        \n",
       "[54,] FALSE         FALSE FALSE FALSE   FALSE     FALSE        \n",
       "[55,] FALSE         FALSE FALSE FALSE   FALSE     FALSE        \n",
       "[56,] FALSE         FALSE FALSE FALSE   FALSE     FALSE        \n",
       "[57,] FALSE         FALSE FALSE FALSE   FALSE     FALSE        \n",
       "[58,] FALSE         FALSE FALSE FALSE   FALSE     FALSE        \n",
       "[59,] FALSE         FALSE FALSE FALSE   FALSE     FALSE        \n",
       "[60,] FALSE         FALSE FALSE FALSE   FALSE     FALSE        \n",
       "[61,] FALSE         FALSE FALSE FALSE   FALSE     FALSE        "
      ]
     },
     "metadata": {},
     "output_type": "display_data"
    }
   ],
   "source": [
    "is.na(advertising)"
   ]
  },
  {
   "cell_type": "code",
   "execution_count": 16,
   "metadata": {},
   "outputs": [
    {
     "data": {
      "text/html": [
       "<dl class=dl-horizontal>\n",
       "\t<dt>Daily Time Spent on Site</dt>\n",
       "\t\t<dd>0</dd>\n",
       "\t<dt>Age</dt>\n",
       "\t\t<dd>0</dd>\n",
       "\t<dt>Area Income</dt>\n",
       "\t\t<dd>0</dd>\n",
       "\t<dt>Daily Internet Usage</dt>\n",
       "\t\t<dd>0</dd>\n",
       "\t<dt>Ad Topic Line</dt>\n",
       "\t\t<dd>0</dd>\n",
       "\t<dt>City</dt>\n",
       "\t\t<dd>0</dd>\n",
       "\t<dt>Male</dt>\n",
       "\t\t<dd>0</dd>\n",
       "\t<dt>Country</dt>\n",
       "\t\t<dd>0</dd>\n",
       "\t<dt>Timestamp</dt>\n",
       "\t\t<dd>0</dd>\n",
       "\t<dt>Clicked on Ad</dt>\n",
       "\t\t<dd>0</dd>\n",
       "</dl>\n"
      ],
      "text/latex": [
       "\\begin{description*}\n",
       "\\item[Daily Time Spent on Site] 0\n",
       "\\item[Age] 0\n",
       "\\item[Area Income] 0\n",
       "\\item[Daily Internet Usage] 0\n",
       "\\item[Ad Topic Line] 0\n",
       "\\item[City] 0\n",
       "\\item[Male] 0\n",
       "\\item[Country] 0\n",
       "\\item[Timestamp] 0\n",
       "\\item[Clicked on Ad] 0\n",
       "\\end{description*}\n"
      ],
      "text/markdown": [
       "Daily Time Spent on Site\n",
       ":   0Age\n",
       ":   0Area Income\n",
       ":   0Daily Internet Usage\n",
       ":   0Ad Topic Line\n",
       ":   0City\n",
       ":   0Male\n",
       ":   0Country\n",
       ":   0Timestamp\n",
       ":   0Clicked on Ad\n",
       ":   0\n",
       "\n"
      ],
      "text/plain": [
       "Daily Time Spent on Site                      Age              Area Income \n",
       "                       0                        0                        0 \n",
       "    Daily Internet Usage            Ad Topic Line                     City \n",
       "                       0                        0                        0 \n",
       "                    Male                  Country                Timestamp \n",
       "                       0                        0                        0 \n",
       "           Clicked on Ad \n",
       "                       0 "
      ]
     },
     "metadata": {},
     "output_type": "display_data"
    }
   ],
   "source": [
    "#lets check for the total missing values\n",
    "colSums(is.na(advertising))"
   ]
  },
  {
   "cell_type": "code",
   "execution_count": 21,
   "metadata": {},
   "outputs": [
    {
     "name": "stdout",
     "output_type": "stream",
     "text": [
      "package 'MASS' successfully unpacked and MD5 sums checked\n",
      "\n",
      "The downloaded binary packages are in\n",
      "\tC:\\Users\\HP\\AppData\\Local\\Temp\\RtmpquqE7j\\downloaded_packages\n"
     ]
    }
   ],
   "source": [
    "install.packages(\"MASS\")"
   ]
  },
  {
   "cell_type": "code",
   "execution_count": 24,
   "metadata": {},
   "outputs": [
    {
     "data": {
      "image/png": "[encoded data removed]",
      "text/plain": [
       "Plot with title \"Histogram of advertising$Male\""
      ]
     },
     "metadata": {},
     "output_type": "display_data"
    }
   ],
   "source": [
    "hist(advertising$Male)\n"
   ]
  },
  {
   "cell_type": "code",
   "execution_count": null,
   "metadata": {},
   "outputs": [],
   "source": []
  }
 ],
 "metadata": {
  "kernelspec": {
   "display_name": "R",
   "language": "R",
   "name": "ir"
  },
  "language_info": {
   "codemirror_mode": "r",
   "file_extension": ".r",
   "mimetype": "text/x-r-source",
   "name": "R",
   "pygments_lexer": "r",
   "version": "3.6.1"
  }
 },
 "nbformat": 4,
 "nbformat_minor": 2
}
